{
 "cells": [
  {
   "cell_type": "markdown",
   "id": "21e7e45d",
   "metadata": {},
   "source": [
    "# Estimating Covid-19 Death Rate\n",
    "In this Data Science tutorial we will do some analysis on the Death rate of the pandemic Covid-19 using python.``"
   ]
  },
  {
   "cell_type": "code",
   "execution_count": 18,
   "id": "83aec50e",
   "metadata": {},
   "outputs": [],
   "source": [
    "import numpy as np\n",
    "import pandas as pd\n",
    "import matplotlib.pyplot as plt\n",
    "import seaborn as sns"
   ]
  },
  {
   "cell_type": "markdown",
   "id": "9aec38d7",
   "metadata": {},
   "source": [
    "# Now load the main data table and display it ;"
   ]
  },
  {
   "cell_type": "code",
   "execution_count": 20,
   "id": "43a1d7d3",
   "metadata": {},
   "outputs": [
    {
     "data": {
      "text/html": [
       "<div>\n",
       "<style scoped>\n",
       "    .dataframe tbody tr th:only-of-type {\n",
       "        vertical-align: middle;\n",
       "    }\n",
       "\n",
       "    .dataframe tbody tr th {\n",
       "        vertical-align: top;\n",
       "    }\n",
       "\n",
       "    .dataframe thead th {\n",
       "        text-align: right;\n",
       "    }\n",
       "</style>\n",
       "<table border=\"1\" class=\"dataframe\">\n",
       "  <thead>\n",
       "    <tr style=\"text-align: right;\">\n",
       "      <th></th>\n",
       "      <th>Date</th>\n",
       "      <th>Country</th>\n",
       "      <th>Population</th>\n",
       "      <th>Total Tests</th>\n",
       "      <th>Total Cases</th>\n",
       "      <th>Total Deaths</th>\n",
       "      <th>Total Recovered</th>\n",
       "      <th>Serious or Critical</th>\n",
       "      <th>Active Cases</th>\n",
       "    </tr>\n",
       "  </thead>\n",
       "  <tbody>\n",
       "    <tr>\n",
       "      <th>0</th>\n",
       "      <td>2020-04-18</td>\n",
       "      <td>USA</td>\n",
       "      <td>330774664</td>\n",
       "      <td>3722145.0</td>\n",
       "      <td>738792.0</td>\n",
       "      <td>39014.0</td>\n",
       "      <td>68269.0</td>\n",
       "      <td>13551.0</td>\n",
       "      <td>631509.0</td>\n",
       "    </tr>\n",
       "    <tr>\n",
       "      <th>1</th>\n",
       "      <td>2020-04-18</td>\n",
       "      <td>Russia</td>\n",
       "      <td>145927292</td>\n",
       "      <td>1831892.0</td>\n",
       "      <td>36793.0</td>\n",
       "      <td>313.0</td>\n",
       "      <td>3057.0</td>\n",
       "      <td>8.0</td>\n",
       "      <td>33423.0</td>\n",
       "    </tr>\n",
       "    <tr>\n",
       "      <th>2</th>\n",
       "      <td>2020-04-18</td>\n",
       "      <td>Spain</td>\n",
       "      <td>46752703</td>\n",
       "      <td>930230.0</td>\n",
       "      <td>194416.0</td>\n",
       "      <td>20043.0</td>\n",
       "      <td>74797.0</td>\n",
       "      <td>7371.0</td>\n",
       "      <td>99576.0</td>\n",
       "    </tr>\n",
       "    <tr>\n",
       "      <th>3</th>\n",
       "      <td>2020-04-18</td>\n",
       "      <td>Brazil</td>\n",
       "      <td>212380932</td>\n",
       "      <td>62985.0</td>\n",
       "      <td>36722.0</td>\n",
       "      <td>2361.0</td>\n",
       "      <td>14026.0</td>\n",
       "      <td>6634.0</td>\n",
       "      <td>20335.0</td>\n",
       "    </tr>\n",
       "    <tr>\n",
       "      <th>4</th>\n",
       "      <td>2020-04-18</td>\n",
       "      <td>UK</td>\n",
       "      <td>67844241</td>\n",
       "      <td>460437.0</td>\n",
       "      <td>114217.0</td>\n",
       "      <td>15464.0</td>\n",
       "      <td>NaN</td>\n",
       "      <td>1559.0</td>\n",
       "      <td>98409.0</td>\n",
       "    </tr>\n",
       "  </tbody>\n",
       "</table>\n",
       "</div>"
      ],
      "text/plain": [
       "         Date Country  Population  Total Tests  Total Cases  Total Deaths  \\\n",
       "0  2020-04-18     USA   330774664    3722145.0     738792.0       39014.0   \n",
       "1  2020-04-18  Russia   145927292    1831892.0      36793.0         313.0   \n",
       "2  2020-04-18   Spain    46752703     930230.0     194416.0       20043.0   \n",
       "3  2020-04-18  Brazil   212380932      62985.0      36722.0        2361.0   \n",
       "4  2020-04-18      UK    67844241     460437.0     114217.0       15464.0   \n",
       "\n",
       "   Total Recovered  Serious or Critical  Active Cases  \n",
       "0          68269.0              13551.0      631509.0  \n",
       "1           3057.0                  8.0       33423.0  \n",
       "2          74797.0               7371.0       99576.0  \n",
       "3          14026.0               6634.0       20335.0  \n",
       "4              NaN               1559.0       98409.0  "
      ]
     },
     "execution_count": 20,
     "metadata": {},
     "output_type": "execute_result"
    }
   ],
   "source": [
    "df = pd.read_csv('worldometer_snapshots_April18_to_May18.csv')\n",
    "df.head()"
   ]
  },
  {
   "cell_type": "markdown",
   "id": "3306d162",
   "metadata": {},
   "source": [
    "The columns in the table are as follows: \n",
    "\n",
    "Date: The date of the snapshot.                                             \n",
    "Country: The name of the country.                                                          \n",
    "Population: The total population of the country as of the snapshot date.                                                         \n",
    "Total Tests: The total number of COVID-19 tests conducted in the country as of the snapshot date.                                                          \n",
    "Total Cases: The total number of confirmed COVID-19 cases in the country as of the snapshot date.                                \n",
    "Total Deaths: The total number of COVID-19 related deaths in the country as of the snapshot date.                              \n",
    "Total Recovered: The total number of COVID-19 recoveries in the country as of the snapshot date.                               \n",
    "Serious or Critical: The total number of COVID-19 patients in a serious or critical condition in the country as of the snapshot date.                                                 \n",
    "Active Cases: The total number of active COVID-19 cases in the country as of the snapshot date.                             \n",
    "The data appears to be sourced from Worldometer, which is a website that provides real-time statistics for a wide range of topics, including population, health, economics, and the environment.          "
   ]
  },
  {
   "cell_type": "code",
   "execution_count": 22,
   "id": "40eb736d",
   "metadata": {},
   "outputs": [
    {
     "data": {
      "text/plain": [
       "(6603, 9)"
      ]
     },
     "execution_count": 22,
     "metadata": {},
     "output_type": "execute_result"
    }
   ],
   "source": [
    "df.shape"
   ]
  },
  {
   "cell_type": "code",
   "execution_count": 23,
   "id": "e8939504",
   "metadata": {},
   "outputs": [
    {
     "name": "stdout",
     "output_type": "stream",
     "text": [
      "<class 'pandas.core.frame.DataFrame'>\n",
      "RangeIndex: 6603 entries, 0 to 6602\n",
      "Data columns (total 9 columns):\n",
      " #   Column               Non-Null Count  Dtype  \n",
      "---  ------               --------------  -----  \n",
      " 0   Date                 6603 non-null   object \n",
      " 1   Country              6603 non-null   object \n",
      " 2   Population           6603 non-null   int64  \n",
      " 3   Total Tests          5505 non-null   float64\n",
      " 4   Total Cases          6554 non-null   float64\n",
      " 5   Total Deaths         5367 non-null   float64\n",
      " 6   Total Recovered      6318 non-null   float64\n",
      " 7   Serious or Critical  4117 non-null   float64\n",
      " 8   Active Cases         6544 non-null   float64\n",
      "dtypes: float64(6), int64(1), object(2)\n",
      "memory usage: 464.4+ KB\n"
     ]
    }
   ],
   "source": [
    "df.info()"
   ]
  },
  {
   "cell_type": "code",
   "execution_count": 25,
   "id": "bfd90fec",
   "metadata": {},
   "outputs": [
    {
     "data": {
      "text/html": [
       "<div>\n",
       "<style scoped>\n",
       "    .dataframe tbody tr th:only-of-type {\n",
       "        vertical-align: middle;\n",
       "    }\n",
       "\n",
       "    .dataframe tbody tr th {\n",
       "        vertical-align: top;\n",
       "    }\n",
       "\n",
       "    .dataframe thead th {\n",
       "        text-align: right;\n",
       "    }\n",
       "</style>\n",
       "<table border=\"1\" class=\"dataframe\">\n",
       "  <thead>\n",
       "    <tr style=\"text-align: right;\">\n",
       "      <th></th>\n",
       "      <th>Population</th>\n",
       "      <th>Total Tests</th>\n",
       "      <th>Total Cases</th>\n",
       "      <th>Total Deaths</th>\n",
       "      <th>Total Recovered</th>\n",
       "      <th>Serious or Critical</th>\n",
       "      <th>Active Cases</th>\n",
       "    </tr>\n",
       "  </thead>\n",
       "  <tbody>\n",
       "    <tr>\n",
       "      <th>count</th>\n",
       "      <td>6.603000e+03</td>\n",
       "      <td>5.505000e+03</td>\n",
       "      <td>6.554000e+03</td>\n",
       "      <td>5367.000000</td>\n",
       "      <td>6318.000000</td>\n",
       "      <td>4117.000000</td>\n",
       "      <td>6.544000e+03</td>\n",
       "    </tr>\n",
       "    <tr>\n",
       "      <th>mean</th>\n",
       "      <td>3.637913e+07</td>\n",
       "      <td>2.167252e+05</td>\n",
       "      <td>1.692968e+04</td>\n",
       "      <td>1416.252096</td>\n",
       "      <td>5855.424185</td>\n",
       "      <td>386.748360</td>\n",
       "      <td>9.964142e+03</td>\n",
       "    </tr>\n",
       "    <tr>\n",
       "      <th>std</th>\n",
       "      <td>1.411537e+08</td>\n",
       "      <td>7.595143e+05</td>\n",
       "      <td>8.861467e+04</td>\n",
       "      <td>6645.247810</td>\n",
       "      <td>23467.641235</td>\n",
       "      <td>1658.428324</td>\n",
       "      <td>6.541025e+04</td>\n",
       "    </tr>\n",
       "    <tr>\n",
       "      <th>min</th>\n",
       "      <td>8.010000e+02</td>\n",
       "      <td>1.000000e+01</td>\n",
       "      <td>1.000000e+00</td>\n",
       "      <td>0.000000</td>\n",
       "      <td>1.000000</td>\n",
       "      <td>1.000000</td>\n",
       "      <td>0.000000e+00</td>\n",
       "    </tr>\n",
       "    <tr>\n",
       "      <th>25%</th>\n",
       "      <td>8.672680e+05</td>\n",
       "      <td>2.690000e+03</td>\n",
       "      <td>7.900000e+01</td>\n",
       "      <td>6.000000</td>\n",
       "      <td>26.000000</td>\n",
       "      <td>3.000000</td>\n",
       "      <td>2.600000e+01</td>\n",
       "    </tr>\n",
       "    <tr>\n",
       "      <th>50%</th>\n",
       "      <td>6.859926e+06</td>\n",
       "      <td>2.547800e+04</td>\n",
       "      <td>6.135000e+02</td>\n",
       "      <td>24.000000</td>\n",
       "      <td>219.000000</td>\n",
       "      <td>13.000000</td>\n",
       "      <td>2.720000e+02</td>\n",
       "    </tr>\n",
       "    <tr>\n",
       "      <th>75%</th>\n",
       "      <td>2.546422e+07</td>\n",
       "      <td>1.437810e+05</td>\n",
       "      <td>4.877500e+03</td>\n",
       "      <td>199.000000</td>\n",
       "      <td>1394.750000</td>\n",
       "      <td>89.000000</td>\n",
       "      <td>2.041000e+03</td>\n",
       "    </tr>\n",
       "    <tr>\n",
       "      <th>max</th>\n",
       "      <td>1.439324e+09</td>\n",
       "      <td>1.230074e+07</td>\n",
       "      <td>1.550294e+06</td>\n",
       "      <td>91981.000000</td>\n",
       "      <td>356383.000000</td>\n",
       "      <td>18671.000000</td>\n",
       "      <td>1.101930e+06</td>\n",
       "    </tr>\n",
       "  </tbody>\n",
       "</table>\n",
       "</div>"
      ],
      "text/plain": [
       "         Population   Total Tests   Total Cases  Total Deaths  \\\n",
       "count  6.603000e+03  5.505000e+03  6.554000e+03   5367.000000   \n",
       "mean   3.637913e+07  2.167252e+05  1.692968e+04   1416.252096   \n",
       "std    1.411537e+08  7.595143e+05  8.861467e+04   6645.247810   \n",
       "min    8.010000e+02  1.000000e+01  1.000000e+00      0.000000   \n",
       "25%    8.672680e+05  2.690000e+03  7.900000e+01      6.000000   \n",
       "50%    6.859926e+06  2.547800e+04  6.135000e+02     24.000000   \n",
       "75%    2.546422e+07  1.437810e+05  4.877500e+03    199.000000   \n",
       "max    1.439324e+09  1.230074e+07  1.550294e+06  91981.000000   \n",
       "\n",
       "       Total Recovered  Serious or Critical  Active Cases  \n",
       "count      6318.000000          4117.000000  6.544000e+03  \n",
       "mean       5855.424185           386.748360  9.964142e+03  \n",
       "std       23467.641235          1658.428324  6.541025e+04  \n",
       "min           1.000000             1.000000  0.000000e+00  \n",
       "25%          26.000000             3.000000  2.600000e+01  \n",
       "50%         219.000000            13.000000  2.720000e+02  \n",
       "75%        1394.750000            89.000000  2.041000e+03  \n",
       "max      356383.000000         18671.000000  1.101930e+06  "
      ]
     },
     "execution_count": 25,
     "metadata": {},
     "output_type": "execute_result"
    }
   ],
   "source": [
    "df.describe()"
   ]
  },
  {
   "cell_type": "code",
   "execution_count": 26,
   "id": "3acea992",
   "metadata": {},
   "outputs": [
    {
     "data": {
      "text/plain": [
       "Date                      0\n",
       "Country                   0\n",
       "Population                0\n",
       "Total Tests            1098\n",
       "Total Cases              49\n",
       "Total Deaths           1236\n",
       "Total Recovered         285\n",
       "Serious or Critical    2486\n",
       "Active Cases             59\n",
       "dtype: int64"
      ]
     },
     "execution_count": 26,
     "metadata": {},
     "output_type": "execute_result"
    }
   ],
   "source": [
    "df.isnull().sum()"
   ]
  },
  {
   "cell_type": "markdown",
   "id": "18e246a2",
   "metadata": {},
   "source": [
    "# To display a sub-table of a specific country"
   ]
  },
  {
   "cell_type": "code",
   "execution_count": 29,
   "id": "e704118e",
   "metadata": {},
   "outputs": [
    {
     "data": {
      "text/html": [
       "<div>\n",
       "<style scoped>\n",
       "    .dataframe tbody tr th:only-of-type {\n",
       "        vertical-align: middle;\n",
       "    }\n",
       "\n",
       "    .dataframe tbody tr th {\n",
       "        vertical-align: top;\n",
       "    }\n",
       "\n",
       "    .dataframe thead th {\n",
       "        text-align: right;\n",
       "    }\n",
       "</style>\n",
       "<table border=\"1\" class=\"dataframe\">\n",
       "  <thead>\n",
       "    <tr style=\"text-align: right;\">\n",
       "      <th></th>\n",
       "      <th>Date</th>\n",
       "      <th>Country</th>\n",
       "      <th>Population</th>\n",
       "      <th>Total Tests</th>\n",
       "      <th>Total Cases</th>\n",
       "      <th>Total Deaths</th>\n",
       "      <th>Total Recovered</th>\n",
       "      <th>Serious or Critical</th>\n",
       "      <th>Active Cases</th>\n",
       "    </tr>\n",
       "  </thead>\n",
       "  <tbody>\n",
       "    <tr>\n",
       "      <th>19</th>\n",
       "      <td>2020-04-18</td>\n",
       "      <td>Pakistan</td>\n",
       "      <td>220356788</td>\n",
       "      <td>92548.0</td>\n",
       "      <td>7638.0</td>\n",
       "      <td>143.0</td>\n",
       "      <td>1832.0</td>\n",
       "      <td>46.0</td>\n",
       "      <td>5663.0</td>\n",
       "    </tr>\n",
       "    <tr>\n",
       "      <th>232</th>\n",
       "      <td>2020-04-19</td>\n",
       "      <td>Pakistan</td>\n",
       "      <td>220356788</td>\n",
       "      <td>98522.0</td>\n",
       "      <td>8348.0</td>\n",
       "      <td>168.0</td>\n",
       "      <td>1868.0</td>\n",
       "      <td>46.0</td>\n",
       "      <td>6312.0</td>\n",
       "    </tr>\n",
       "    <tr>\n",
       "      <th>445</th>\n",
       "      <td>2020-04-20</td>\n",
       "      <td>Pakistan</td>\n",
       "      <td>220356788</td>\n",
       "      <td>104302.0</td>\n",
       "      <td>8892.0</td>\n",
       "      <td>176.0</td>\n",
       "      <td>1970.0</td>\n",
       "      <td>46.0</td>\n",
       "      <td>6746.0</td>\n",
       "    </tr>\n",
       "    <tr>\n",
       "      <th>658</th>\n",
       "      <td>2020-04-21</td>\n",
       "      <td>Pakistan</td>\n",
       "      <td>220356788</td>\n",
       "      <td>111806.0</td>\n",
       "      <td>9565.0</td>\n",
       "      <td>201.0</td>\n",
       "      <td>2073.0</td>\n",
       "      <td>46.0</td>\n",
       "      <td>7291.0</td>\n",
       "    </tr>\n",
       "    <tr>\n",
       "      <th>871</th>\n",
       "      <td>2020-04-22</td>\n",
       "      <td>Pakistan</td>\n",
       "      <td>220356788</td>\n",
       "      <td>118020.0</td>\n",
       "      <td>10076.0</td>\n",
       "      <td>212.0</td>\n",
       "      <td>2156.0</td>\n",
       "      <td>58.0</td>\n",
       "      <td>7708.0</td>\n",
       "    </tr>\n",
       "  </tbody>\n",
       "</table>\n",
       "</div>"
      ],
      "text/plain": [
       "           Date   Country  Population  Total Tests  Total Cases  Total Deaths  \\\n",
       "19   2020-04-18  Pakistan   220356788      92548.0       7638.0         143.0   \n",
       "232  2020-04-19  Pakistan   220356788      98522.0       8348.0         168.0   \n",
       "445  2020-04-20  Pakistan   220356788     104302.0       8892.0         176.0   \n",
       "658  2020-04-21  Pakistan   220356788     111806.0       9565.0         201.0   \n",
       "871  2020-04-22  Pakistan   220356788     118020.0      10076.0         212.0   \n",
       "\n",
       "     Total Recovered  Serious or Critical  Active Cases  \n",
       "19            1832.0                 46.0        5663.0  \n",
       "232           1868.0                 46.0        6312.0  \n",
       "445           1970.0                 46.0        6746.0  \n",
       "658           2073.0                 46.0        7291.0  \n",
       "871           2156.0                 58.0        7708.0  "
      ]
     },
     "execution_count": 29,
     "metadata": {},
     "output_type": "execute_result"
    }
   ],
   "source": [
    "pakistan = df.loc[df['Country']=='Pakistan']\n",
    "pakistan.head()"
   ]
  },
  {
   "cell_type": "code",
   "execution_count": 31,
   "id": "a93954ab",
   "metadata": {},
   "outputs": [
    {
     "data": {
      "text/plain": [
       "143.0    1\n",
       "476.0    1\n",
       "873.0    1\n",
       "834.0    1\n",
       "803.0    1\n",
       "770.0    1\n",
       "761.0    1\n",
       "724.0    1\n",
       "667.0    1\n",
       "659.0    1\n",
       "636.0    1\n",
       "599.0    1\n",
       "585.0    1\n",
       "544.0    1\n",
       "514.0    1\n",
       "457.0    1\n",
       "168.0    1\n",
       "437.0    1\n",
       "417.0    1\n",
       "361.0    1\n",
       "343.0    1\n",
       "312.0    1\n",
       "292.0    1\n",
       "281.0    1\n",
       "269.0    1\n",
       "253.0    1\n",
       "235.0    1\n",
       "212.0    1\n",
       "201.0    1\n",
       "176.0    1\n",
       "903.0    1\n",
       "Name: Total Deaths, dtype: int64"
      ]
     },
     "execution_count": 31,
     "metadata": {},
     "output_type": "execute_result"
    }
   ],
   "source": [
    "pakistan['Total Deaths'].value_counts()"
   ]
  },
  {
   "cell_type": "code",
   "execution_count": 33,
   "id": "b0e123fc",
   "metadata": {},
   "outputs": [
    {
     "data": {
      "text/plain": [
       "19      143.0\n",
       "232     168.0\n",
       "445     176.0\n",
       "658     201.0\n",
       "871     212.0\n",
       "1084    235.0\n",
       "1297    253.0\n",
       "1510    269.0\n",
       "1723    281.0\n",
       "1936    292.0\n",
       "2149    312.0\n",
       "2362    343.0\n",
       "2575    361.0\n",
       "2788    417.0\n",
       "3001    437.0\n",
       "3214    457.0\n",
       "3427    476.0\n",
       "3640    514.0\n",
       "3853    544.0\n",
       "4066    585.0\n",
       "4279    599.0\n",
       "4492    636.0\n",
       "4705    659.0\n",
       "4918    667.0\n",
       "5131    724.0\n",
       "5344    761.0\n",
       "5557    770.0\n",
       "5770    803.0\n",
       "5983    834.0\n",
       "6196    873.0\n",
       "6409    903.0\n",
       "Name: Total Deaths, dtype: float64"
      ]
     },
     "execution_count": 33,
     "metadata": {},
     "output_type": "execute_result"
    }
   ],
   "source": [
    "pak_deaths = pakistan['Total Deaths']\n",
    "pak_deaths"
   ]
  },
  {
   "cell_type": "code",
   "execution_count": 34,
   "id": "44e14ed7",
   "metadata": {},
   "outputs": [
    {
     "data": {
      "image/png": "[encoded data removed]",
      "text/plain": [
       "<Figure size 640x480 with 1 Axes>"
      ]
     },
     "metadata": {},
     "output_type": "display_data"
    }
   ],
   "source": [
    "sns.histplot(pak_deaths,bins=20)\n",
    "plt.show()"
   ]
  },
  {
   "cell_type": "code",
   "execution_count": 35,
   "id": "9fe48a09",
   "metadata": {},
   "outputs": [
    {
     "data": {
      "image/png": "[encoded data removed]",
      "text/plain": [
       "<Figure size 640x480 with 1 Axes>"
      ]
     },
     "metadata": {},
     "output_type": "display_data"
    }
   ],
   "source": [
    "sns.histplot(pakistan['Total Cases'],bins=20)\n",
    "plt.show()"
   ]
  },
  {
   "cell_type": "markdown",
   "id": "eaaf61c8",
   "metadata": {},
   "source": [
    "# Do the Same for USA :"
   ]
  },
  {
   "cell_type": "code",
   "execution_count": 37,
   "id": "64b307f9",
   "metadata": {},
   "outputs": [
    {
     "data": {
      "text/html": [
       "<div>\n",
       "<style scoped>\n",
       "    .dataframe tbody tr th:only-of-type {\n",
       "        vertical-align: middle;\n",
       "    }\n",
       "\n",
       "    .dataframe tbody tr th {\n",
       "        vertical-align: top;\n",
       "    }\n",
       "\n",
       "    .dataframe thead th {\n",
       "        text-align: right;\n",
       "    }\n",
       "</style>\n",
       "<table border=\"1\" class=\"dataframe\">\n",
       "  <thead>\n",
       "    <tr style=\"text-align: right;\">\n",
       "      <th></th>\n",
       "      <th>Date</th>\n",
       "      <th>Country</th>\n",
       "      <th>Population</th>\n",
       "      <th>Total Tests</th>\n",
       "      <th>Total Cases</th>\n",
       "      <th>Total Deaths</th>\n",
       "      <th>Total Recovered</th>\n",
       "      <th>Serious or Critical</th>\n",
       "      <th>Active Cases</th>\n",
       "    </tr>\n",
       "  </thead>\n",
       "  <tbody>\n",
       "    <tr>\n",
       "      <th>0</th>\n",
       "      <td>2020-04-18</td>\n",
       "      <td>USA</td>\n",
       "      <td>330774664</td>\n",
       "      <td>3722145.0</td>\n",
       "      <td>738792.0</td>\n",
       "      <td>39014.0</td>\n",
       "      <td>68269.0</td>\n",
       "      <td>13551.0</td>\n",
       "      <td>631509.0</td>\n",
       "    </tr>\n",
       "    <tr>\n",
       "      <th>213</th>\n",
       "      <td>2020-04-19</td>\n",
       "      <td>USA</td>\n",
       "      <td>330774664</td>\n",
       "      <td>3861549.0</td>\n",
       "      <td>763832.0</td>\n",
       "      <td>40553.0</td>\n",
       "      <td>71003.0</td>\n",
       "      <td>13566.0</td>\n",
       "      <td>652276.0</td>\n",
       "    </tr>\n",
       "    <tr>\n",
       "      <th>426</th>\n",
       "      <td>2020-04-20</td>\n",
       "      <td>USA</td>\n",
       "      <td>330774664</td>\n",
       "      <td>4026360.0</td>\n",
       "      <td>792759.0</td>\n",
       "      <td>42514.0</td>\n",
       "      <td>72389.0</td>\n",
       "      <td>13951.0</td>\n",
       "      <td>677856.0</td>\n",
       "    </tr>\n",
       "    <tr>\n",
       "      <th>639</th>\n",
       "      <td>2020-04-21</td>\n",
       "      <td>USA</td>\n",
       "      <td>330774664</td>\n",
       "      <td>4187392.0</td>\n",
       "      <td>818744.0</td>\n",
       "      <td>45318.0</td>\n",
       "      <td>82923.0</td>\n",
       "      <td>14016.0</td>\n",
       "      <td>690503.0</td>\n",
       "    </tr>\n",
       "    <tr>\n",
       "      <th>852</th>\n",
       "      <td>2020-04-22</td>\n",
       "      <td>USA</td>\n",
       "      <td>330774664</td>\n",
       "      <td>4325342.0</td>\n",
       "      <td>848717.0</td>\n",
       "      <td>47659.0</td>\n",
       "      <td>84050.0</td>\n",
       "      <td>14016.0</td>\n",
       "      <td>717008.0</td>\n",
       "    </tr>\n",
       "  </tbody>\n",
       "</table>\n",
       "</div>"
      ],
      "text/plain": [
       "           Date Country  Population  Total Tests  Total Cases  Total Deaths  \\\n",
       "0    2020-04-18     USA   330774664    3722145.0     738792.0       39014.0   \n",
       "213  2020-04-19     USA   330774664    3861549.0     763832.0       40553.0   \n",
       "426  2020-04-20     USA   330774664    4026360.0     792759.0       42514.0   \n",
       "639  2020-04-21     USA   330774664    4187392.0     818744.0       45318.0   \n",
       "852  2020-04-22     USA   330774664    4325342.0     848717.0       47659.0   \n",
       "\n",
       "     Total Recovered  Serious or Critical  Active Cases  \n",
       "0            68269.0              13551.0      631509.0  \n",
       "213          71003.0              13566.0      652276.0  \n",
       "426          72389.0              13951.0      677856.0  \n",
       "639          82923.0              14016.0      690503.0  \n",
       "852          84050.0              14016.0      717008.0  "
      ]
     },
     "execution_count": 37,
     "metadata": {},
     "output_type": "execute_result"
    }
   ],
   "source": [
    "usa = df.loc[df['Country'] == \"USA\"]\n",
    "usa.head()"
   ]
  },
  {
   "cell_type": "code",
   "execution_count": 38,
   "id": "262887e1",
   "metadata": {},
   "outputs": [
    {
     "data": {
      "image/png": "[encoded data removed]",
      "text/plain": [
       "<Figure size 640x480 with 1 Axes>"
      ]
     },
     "metadata": {},
     "output_type": "display_data"
    }
   ],
   "source": [
    "sns.histplot(usa['Active Cases'],bins=20)\n",
    "plt.show()"
   ]
  },
  {
   "cell_type": "code",
   "execution_count": 39,
   "id": "489e4f32",
   "metadata": {},
   "outputs": [
    {
     "data": {
      "image/png": "[encoded data removed]",
      "text/plain": [
       "<Figure size 640x480 with 1 Axes>"
      ]
     },
     "metadata": {},
     "output_type": "display_data"
    }
   ],
   "source": [
    "sns.histplot(usa['Total Recovered'],bins=20)\n",
    "plt.show()"
   ]
  },
  {
   "cell_type": "code",
   "execution_count": null,
   "id": "6e96fff6",
   "metadata": {},
   "outputs": [],
   "source": []
  }
 ],
 "metadata": {
  "kernelspec": {
   "display_name": "Python 3 (ipykernel)",
   "language": "python",
   "name": "python3"
  },
  "language_info": {
   "codemirror_mode": {
    "name": "ipython",
    "version": 3
   },
   "file_extension": ".py",
   "mimetype": "text/x-python",
   "name": "python",
   "nbconvert_exporter": "python",
   "pygments_lexer": "ipython3",
   "version": "3.10.6"
  }
 },
 "nbformat": 4,
 "nbformat_minor": 5
}
